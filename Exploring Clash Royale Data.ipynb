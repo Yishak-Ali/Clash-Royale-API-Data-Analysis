{
 "cells": [
  {
   "cell_type": "markdown",
   "id": "05afdae6-6ced-491b-be2e-e6d9204e0998",
   "metadata": {},
   "source": [
    "# Clash Royale API Data Exploration"
   ]
  },
  {
   "cell_type": "markdown",
   "id": "e0e76be6-c193-4a09-8653-75bb9b92e34b",
   "metadata": {},
   "source": [
    "## I. Set up API connection"
   ]
  },
  {
   "cell_type": "code",
   "execution_count": 1,
   "id": "f51ea905-532b-465b-b099-314bf3347b5a",
   "metadata": {},
   "outputs": [],
   "source": [
    "# import required libraries\n",
    "import pandas as pd\n",
    "import config\n",
    "import requests\n",
    "import matplotlib.pyplot as plt\n",
    "%matplotlib inline\n",
    "import seaborn as sns"
   ]
  },
  {
   "cell_type": "code",
   "execution_count": 2,
   "id": "fbf3ea94-a1fe-446e-ab50-dfe7940bcdbe",
   "metadata": {},
   "outputs": [],
   "source": [
    "api_key = config.API_KEY"
   ]
  },
  {
   "cell_type": "code",
   "execution_count": 3,
   "id": "ee6ef26f-9434-4b8b-8c84-bfb2aa489d0d",
   "metadata": {
    "scrolled": true
   },
   "outputs": [],
   "source": [
    "# set up api_key and base_url\n",
    "header = {'Authorization' : f'Bearer {api_key}'\n",
    "}\n",
    "base_url = 'https://api.clashroyale.com/v1'"
   ]
  },
  {
   "cell_type": "markdown",
   "id": "35513eeb-c975-4a8a-96bb-ee176f39c2ff",
   "metadata": {},
   "source": [
    "## II. Request data and transform into pandas DataFrame"
   ]
  },
  {
   "cell_type": "code",
   "execution_count": 4,
   "id": "84eea0c8-13eb-4840-a5d7-eb5533679e2b",
   "metadata": {},
   "outputs": [
    {
     "data": {
      "text/html": [
       "<div>\n",
       "<style scoped>\n",
       "    .dataframe tbody tr th:only-of-type {\n",
       "        vertical-align: middle;\n",
       "    }\n",
       "\n",
       "    .dataframe tbody tr th {\n",
       "        vertical-align: top;\n",
       "    }\n",
       "\n",
       "    .dataframe thead th {\n",
       "        text-align: right;\n",
       "    }\n",
       "</style>\n",
       "<table border=\"1\" class=\"dataframe\">\n",
       "  <thead>\n",
       "    <tr style=\"text-align: right;\">\n",
       "      <th></th>\n",
       "      <th>player_id</th>\n",
       "      <th>rank</th>\n",
       "      <th>url_encoded_id</th>\n",
       "    </tr>\n",
       "  </thead>\n",
       "  <tbody>\n",
       "    <tr>\n",
       "      <th>0</th>\n",
       "      <td>#G9YV9GR8R</td>\n",
       "      <td>1</td>\n",
       "      <td>%23G9YV9GR8R</td>\n",
       "    </tr>\n",
       "    <tr>\n",
       "      <th>1</th>\n",
       "      <td>#CVU8GV292</td>\n",
       "      <td>2</td>\n",
       "      <td>%23CVU8GV292</td>\n",
       "    </tr>\n",
       "    <tr>\n",
       "      <th>2</th>\n",
       "      <td>#290VGG28</td>\n",
       "      <td>3</td>\n",
       "      <td>%23290VGG28</td>\n",
       "    </tr>\n",
       "    <tr>\n",
       "      <th>3</th>\n",
       "      <td>#RJ88Y8U08</td>\n",
       "      <td>4</td>\n",
       "      <td>%23RJ88Y8U08</td>\n",
       "    </tr>\n",
       "    <tr>\n",
       "      <th>4</th>\n",
       "      <td>#R90PRV0PY</td>\n",
       "      <td>5</td>\n",
       "      <td>%23R90PRV0PY</td>\n",
       "    </tr>\n",
       "    <tr>\n",
       "      <th>...</th>\n",
       "      <td>...</td>\n",
       "      <td>...</td>\n",
       "      <td>...</td>\n",
       "    </tr>\n",
       "    <tr>\n",
       "      <th>95</th>\n",
       "      <td>#CPGRQ8VQV</td>\n",
       "      <td>96</td>\n",
       "      <td>%23CPGRQ8VQV</td>\n",
       "    </tr>\n",
       "    <tr>\n",
       "      <th>96</th>\n",
       "      <td>#Y90CL0PCQ</td>\n",
       "      <td>97</td>\n",
       "      <td>%23Y90CL0PCQ</td>\n",
       "    </tr>\n",
       "    <tr>\n",
       "      <th>97</th>\n",
       "      <td>#8RYL09VJ</td>\n",
       "      <td>98</td>\n",
       "      <td>%238RYL09VJ</td>\n",
       "    </tr>\n",
       "    <tr>\n",
       "      <th>98</th>\n",
       "      <td>#202GUYUP</td>\n",
       "      <td>99</td>\n",
       "      <td>%23202GUYUP</td>\n",
       "    </tr>\n",
       "    <tr>\n",
       "      <th>99</th>\n",
       "      <td>#GJ9VPRVQG</td>\n",
       "      <td>100</td>\n",
       "      <td>%23GJ9VPRVQG</td>\n",
       "    </tr>\n",
       "  </tbody>\n",
       "</table>\n",
       "<p>100 rows × 3 columns</p>\n",
       "</div>"
      ],
      "text/plain": [
       "     player_id  rank url_encoded_id\n",
       "0   #G9YV9GR8R     1   %23G9YV9GR8R\n",
       "1   #CVU8GV292     2   %23CVU8GV292\n",
       "2    #290VGG28     3    %23290VGG28\n",
       "3   #RJ88Y8U08     4   %23RJ88Y8U08\n",
       "4   #R90PRV0PY     5   %23R90PRV0PY\n",
       "..         ...   ...            ...\n",
       "95  #CPGRQ8VQV    96   %23CPGRQ8VQV\n",
       "96  #Y90CL0PCQ    97   %23Y90CL0PCQ\n",
       "97   #8RYL09VJ    98    %238RYL09VJ\n",
       "98   #202GUYUP    99    %23202GUYUP\n",
       "99  #GJ9VPRVQG   100   %23GJ9VPRVQG\n",
       "\n",
       "[100 rows x 3 columns]"
      ]
     },
     "execution_count": 4,
     "metadata": {},
     "output_type": "execute_result"
    }
   ],
   "source": [
    "# rankings last season - most recent available for call\n",
    "response = requests.get(f'{base_url}/locations/global/pathoflegend/2025-02/rankings/players?limit=100', headers=header)\n",
    "top_100 = []\n",
    "for player in response.json()['items']:\n",
    "    rank_info = {'player_id': player['tag'],\n",
    "                 'rank' : player['rank']\n",
    "    }\n",
    "    top_100.append(rank_info)\n",
    "rank_df = pd.DataFrame(top_100)    \n",
    "rank_df['url_encoded_id'] = rank_df['player_id'].str.replace('#', '%23')\n",
    "rank_df"
   ]
  },
  {
   "cell_type": "code",
   "execution_count": 5,
   "id": "6913cefe-8900-49f6-8ae9-b0e0fcf229e4",
   "metadata": {},
   "outputs": [],
   "source": [
    "# initialize lists for three data groups\n",
    "battle_list = []\n",
    "player_list = []\n",
    "deck_list = []\n",
    "\n",
    "# for every player in last season's top 100, extract out relevant data points from their battlelog\n",
    "for player in rank_df['url_encoded_id']:\n",
    "    response = requests.get(f'{base_url}/players/{player}/battlelog', headers=header)\n",
    "    json_data = response.json()\n",
    "\n",
    "    # extracts out battle details\n",
    "    for battle in json_data:\n",
    "        battle_info = {'battle_type': battle['type'],\n",
    "                       'battle_time': battle['battleTime'],\n",
    "                       'team_player_id': battle['team'][0]['tag'],\n",
    "                       'arena': battle['arena']['name'],\n",
    "                       'game_mode': battle['gameMode']['name'],\n",
    "                       'is_ladder_tournament': battle['isLadderTournament'],\n",
    "                       'is_hosted_match': battle['isHostedMatch'],\n",
    "                       'league': battle['leagueNumber'],    \n",
    "        }\n",
    "        battle_list.append(battle_info)\n",
    "        \n",
    "        # extracts out player & player results details \n",
    "        for player_type, player_data in zip(['team', 'opponent'], [battle['team'], battle['opponent']]):\n",
    "            team_info = {'battle_time': battle['battleTime'],\n",
    "                         'battle_type': battle['type'],\n",
    "                         'player_type': player_type,\n",
    "                         'player_id':   player_data[0]['tag'],\n",
    "                         'player_name': player_data[0]['name'],\n",
    "                         'clan_name': player_data[0].get('clan', {}).get('name', None),\n",
    "                         'global_rank': player_data[0].get('globalRank', 'Unranked'),\n",
    "                         'start_trophy': player_data[0].get('startingTrophies', None),\n",
    "                         'trophy_change': player_data[0].get('trophyChange', None),\n",
    "                         'crowns': player_data[0]['crowns'],\n",
    "                         'king_tower_hp': player_data[0].get('kingTowerHitPoints', 0),\n",
    "                         'princess_tower_hp': player_data[0].get('princessTowersHitPoints', None),                     \n",
    "                         'elixir_leaked': player_data[0]['elixirLeaked']                     \n",
    "            }\n",
    "            player_list.append(team_info)\n",
    "            \n",
    "            # extracts out deck & card details \n",
    "            for card in player_data[0]['cards']:\n",
    "                card_info = {'battle_time': battle['battleTime'],\n",
    "                             'battle_type': battle['type'],\n",
    "                             'player_id': player_data[0]['tag'],\n",
    "                             'player_type': player_type,\n",
    "                             'card_id': card['id'],\n",
    "                             'card_name': card['name'],\n",
    "                             'card_level': card['level'],\n",
    "                             'elixir_cost': card.get('elixirCost', None),\n",
    "                             'rarity': card['rarity']         \n",
    "                }\n",
    "    \n",
    "                deck_list.append(card_info)\n",
    "\n",
    "battle_df = pd.DataFrame(battle_list)   \n",
    "player_df = pd.DataFrame(player_list)\n",
    "deck_df = pd.DataFrame(deck_list)"
   ]
  },
  {
   "cell_type": "markdown",
   "id": "a5460810-ea2b-4395-ad7c-a39cb844efee",
   "metadata": {},
   "source": [
    "## III. Data cleaning"
   ]
  },
  {
   "cell_type": "code",
   "execution_count": 6,
   "id": "f179a084-7aba-4b85-8c94-1f3386168e06",
   "metadata": {},
   "outputs": [],
   "source": [
    "current_season = pd.Series(['2025-03-03 10:00', '2025-04-07 10:00']) # defining range of date aligned with current season\n",
    "current_season = pd.to_datetime(current_season, format='%Y-%m-%d %H:%M')\n",
    "\n",
    "for table in [battle_df, player_df, deck_df]:\n",
    "    table['battle_time'] = pd.to_datetime(table['battle_time'], format='%Y%m%dT%H%M%S.000Z')\n",
    "battle_df = battle_df.copy()\n",
    "battle_df = battle_df[battle_df['battle_type'] == 'pathOfLegend'] # limit scope to path of legends ladder\n",
    "battle_df = battle_df[battle_df['battle_time'].between(current_season[0], current_season[1])] # using season range to filter\n",
    "battle_df.sort_values('battle_time', inplace=True)\n",
    "battle_df.reset_index(inplace=True, drop=True)\n",
    "\n",
    "player_df = player_df.copy()\n",
    "player_df = player_df[player_df['battle_type'] == 'pathOfLegend']\n",
    "player_df['p_tower1_hp'] = player_df['princess_tower_hp'].astype('str').str.split(',').str[0].str.replace('[', '').str.replace(']', '') # split princess tower hp list into two cols\n",
    "player_df['p_tower2_hp'] = player_df['princess_tower_hp'].astype('str').str.split(',').str[1].str.replace('[', '').str.replace(']', '')\n",
    "player_df['p_tower1_hp'] = player_df['p_tower1_hp'].mask(player_df['p_tower1_hp'] == 'None', 0)\n",
    "player_df['p_tower2_hp'] = player_df['p_tower2_hp'].mask(player_df['p_tower2_hp'].isnull(), 0)\n",
    "player_df['p_tower1_hp'] = player_df['p_tower1_hp'].astype('int')\n",
    "player_df['p_tower2_hp'] = player_df['p_tower2_hp'].astype('int')\n",
    "player_df = player_df[player_df['battle_time'].between(current_season[0], current_season[1])]\n",
    "player_df['end_trophy'] = player_df['start_trophy'] + player_df['trophy_change']\n",
    "\n",
    "# separate team and opponent player data\n",
    "team_df = player_df[player_df['player_type'] == 'team'].copy()\n",
    "opponent_df = player_df[player_df['player_type'] == 'opponent'].copy()\n",
    "\n",
    "# Merge team and opponent on battle_time - gets rows to be unique battle\n",
    "merged_player_df = pd.merge(team_df, opponent_df, on='battle_time',\n",
    "                            suffixes=('_team', '_opponent'), how='inner')\n",
    "\n",
    "# create function to create match result cols\n",
    "def match_result(crowns_team, crowns_opponent):\n",
    "    if crowns_team > crowns_opponent:\n",
    "        return 'W'\n",
    "    elif crowns_team < crowns_opponent:\n",
    "        return 'L'\n",
    "    else:\n",
    "        return 'T'\n",
    "\n",
    "# Apply the function row-wise to determine the outcome for both team and opponent\n",
    "merged_player_df['outcome_team'] = merged_player_df.apply(\n",
    "    lambda row: match_result(row['crowns_team'], row['crowns_opponent']), axis=1)\n",
    "\n",
    "merged_player_df['outcome_opponent'] = merged_player_df.apply(\n",
    "    lambda row: match_result(row['crowns_opponent'], row['crowns_team']), axis=1)\n",
    "\n",
    "merged_player_df.drop(['battle_type_team', 'player_type_team', 'player_type_opponent'], axis=1, inplace=True)\n",
    "merged_player_df.sort_values('battle_time', inplace=True)\n",
    "merged_player_df.drop_duplicates(subset=['battle_time', 'player_id_team'], inplace=True)\n",
    "merged_player_df.reset_index(inplace=True, drop=True)\n",
    "\n",
    "deck_df = deck_df.copy()\n",
    "deck_df = deck_df[deck_df['battle_type'] == 'pathOfLegend']\n",
    "deck_df = deck_df[deck_df['battle_time'].between(current_season[0], current_season[1])]\n",
    "deck_df.sort_values('battle_time', inplace=True)\n",
    "deck_df.reset_index(inplace=True, drop=True)\n",
    "\n",
    "# separate team and opponent deck data\n",
    "team_deck_df = deck_df[deck_df['player_type'] == 'team'].copy()\n",
    "opponent_deck_df = deck_df[deck_df['player_type'] == 'opponent'].copy()"
   ]
  },
  {
   "cell_type": "code",
   "execution_count": 7,
   "id": "a993f206-6d3b-4317-9d23-0882b7497780",
   "metadata": {
    "scrolled": true
   },
   "outputs": [
    {
     "name": "stdout",
     "output_type": "stream",
     "text": [
      "<class 'pandas.core.frame.DataFrame'>\n",
      "RangeIndex: 597 entries, 0 to 596\n",
      "Data columns (total 8 columns):\n",
      " #   Column                Non-Null Count  Dtype         \n",
      "---  ------                --------------  -----         \n",
      " 0   battle_type           597 non-null    object        \n",
      " 1   battle_time           597 non-null    datetime64[ns]\n",
      " 2   team_player_id        597 non-null    object        \n",
      " 3   arena                 597 non-null    object        \n",
      " 4   game_mode             597 non-null    object        \n",
      " 5   is_ladder_tournament  597 non-null    bool          \n",
      " 6   is_hosted_match       597 non-null    bool          \n",
      " 7   league                597 non-null    int64         \n",
      "dtypes: bool(2), datetime64[ns](1), int64(1), object(4)\n",
      "memory usage: 29.3+ KB\n"
     ]
    }
   ],
   "source": [
    "battle_df.info()"
   ]
  },
  {
   "cell_type": "code",
   "execution_count": 8,
   "id": "41197122-1b45-4ff0-8592-b2a6fbcd0257",
   "metadata": {},
   "outputs": [
    {
     "name": "stdout",
     "output_type": "stream",
     "text": [
      "<class 'pandas.core.frame.DataFrame'>\n",
      "RangeIndex: 597 entries, 0 to 596\n",
      "Data columns (total 30 columns):\n",
      " #   Column                      Non-Null Count  Dtype         \n",
      "---  ------                      --------------  -----         \n",
      " 0   battle_time                 597 non-null    datetime64[ns]\n",
      " 1   player_id_team              597 non-null    object        \n",
      " 2   player_name_team            597 non-null    object        \n",
      " 3   clan_name_team              473 non-null    object        \n",
      " 4   global_rank_team            453 non-null    float64       \n",
      " 5   start_trophy_team           506 non-null    float64       \n",
      " 6   trophy_change_team          581 non-null    float64       \n",
      " 7   crowns_team                 597 non-null    int64         \n",
      " 8   king_tower_hp_team          597 non-null    int64         \n",
      " 9   princess_tower_hp_team      539 non-null    object        \n",
      " 10  elixir_leaked_team          597 non-null    float64       \n",
      " 11  p_tower1_hp_team            597 non-null    int64         \n",
      " 12  p_tower2_hp_team            597 non-null    int64         \n",
      " 13  end_trophy_team             496 non-null    float64       \n",
      " 14  battle_type_opponent        597 non-null    object        \n",
      " 15  player_id_opponent          597 non-null    object        \n",
      " 16  player_name_opponent        597 non-null    object        \n",
      " 17  clan_name_opponent          502 non-null    object        \n",
      " 18  global_rank_opponent        446 non-null    float64       \n",
      " 19  start_trophy_opponent       505 non-null    float64       \n",
      " 20  trophy_change_opponent      501 non-null    float64       \n",
      " 21  crowns_opponent             597 non-null    int64         \n",
      " 22  king_tower_hp_opponent      597 non-null    int64         \n",
      " 23  princess_tower_hp_opponent  464 non-null    object        \n",
      " 24  elixir_leaked_opponent      597 non-null    float64       \n",
      " 25  p_tower1_hp_opponent        597 non-null    int64         \n",
      " 26  p_tower2_hp_opponent        597 non-null    int64         \n",
      " 27  end_trophy_opponent         495 non-null    float64       \n",
      " 28  outcome_team                597 non-null    object        \n",
      " 29  outcome_opponent            597 non-null    object        \n",
      "dtypes: datetime64[ns](1), float64(10), int64(8), object(11)\n",
      "memory usage: 140.1+ KB\n"
     ]
    }
   ],
   "source": [
    "merged_player_df.info()"
   ]
  },
  {
   "cell_type": "code",
   "execution_count": 9,
   "id": "9eed4484-c29f-4c08-8859-d4ab2fe38e2f",
   "metadata": {
    "scrolled": true
   },
   "outputs": [
    {
     "name": "stdout",
     "output_type": "stream",
     "text": [
      "<class 'pandas.core.frame.DataFrame'>\n",
      "Index: 4776 entries, 1 to 9551\n",
      "Data columns (total 9 columns):\n",
      " #   Column       Non-Null Count  Dtype         \n",
      "---  ------       --------------  -----         \n",
      " 0   battle_time  4776 non-null   datetime64[ns]\n",
      " 1   battle_type  4776 non-null   object        \n",
      " 2   player_id    4776 non-null   object        \n",
      " 3   player_type  4776 non-null   object        \n",
      " 4   card_id      4776 non-null   int64         \n",
      " 5   card_name    4776 non-null   object        \n",
      " 6   card_level   4776 non-null   int64         \n",
      " 7   elixir_cost  4776 non-null   float64       \n",
      " 8   rarity       4776 non-null   object        \n",
      "dtypes: datetime64[ns](1), float64(1), int64(2), object(5)\n",
      "memory usage: 373.1+ KB\n"
     ]
    }
   ],
   "source": [
    "team_deck_df.info()"
   ]
  },
  {
   "cell_type": "code",
   "execution_count": 10,
   "id": "06ea67c5-2067-40ab-9083-38b2c6aec0f4",
   "metadata": {},
   "outputs": [
    {
     "name": "stdout",
     "output_type": "stream",
     "text": [
      "<class 'pandas.core.frame.DataFrame'>\n",
      "Index: 4776 entries, 0 to 9544\n",
      "Data columns (total 9 columns):\n",
      " #   Column       Non-Null Count  Dtype         \n",
      "---  ------       --------------  -----         \n",
      " 0   battle_time  4776 non-null   datetime64[ns]\n",
      " 1   battle_type  4776 non-null   object        \n",
      " 2   player_id    4776 non-null   object        \n",
      " 3   player_type  4776 non-null   object        \n",
      " 4   card_id      4776 non-null   int64         \n",
      " 5   card_name    4776 non-null   object        \n",
      " 6   card_level   4776 non-null   int64         \n",
      " 7   elixir_cost  4769 non-null   float64       \n",
      " 8   rarity       4776 non-null   object        \n",
      "dtypes: datetime64[ns](1), float64(1), int64(2), object(5)\n",
      "memory usage: 373.1+ KB\n"
     ]
    }
   ],
   "source": [
    "opponent_deck_df.info()"
   ]
  },
  {
   "cell_type": "markdown",
   "id": "d552544f-39a5-4f0e-a3fb-5d0a6a5fe0cf",
   "metadata": {},
   "source": [
    "## IV. Exploratory data analysis"
   ]
  },
  {
   "cell_type": "code",
   "execution_count": 11,
   "id": "03ddaf5c-5b74-4de3-9c29-9403d7aec22b",
   "metadata": {
    "scrolled": true
   },
   "outputs": [],
   "source": [
    "# selecting test player to run eda\n",
    "test_player_df = merged_player_df[merged_player_df['player_id_team'] == '#JYG0G0Y9P']\n",
    "\n",
    "# creating col for running win rate for player\n",
    "test_player_df = test_player_df.copy()\n",
    "test_player_df.reset_index(drop=True, inplace=True)\n",
    "test_player_df['is_win'] = (test_player_df['outcome_team'] == 'W').astype(int)\n",
    "test_player_df['cumulative_wins'] = test_player_df['is_win'].cumsum()\n",
    "test_player_df['running_winrate'] = test_player_df['cumulative_wins'] / (test_player_df.index + 1)"
   ]
  },
  {
   "cell_type": "code",
   "execution_count": 12,
   "id": "f6401b83-4514-4775-b328-ddf8123025a6",
   "metadata": {},
   "outputs": [
    {
     "data": {
      "image/png": "[encoded data removed]",
      "text/plain": [
       "<Figure size 640x480 with 1 Axes>"
      ]
     },
     "metadata": {},
     "output_type": "display_data"
    }
   ],
   "source": [
    "# rating over recent battlelog\n",
    "plt.step(test_player_df['battle_time'], test_player_df['end_trophy_team'], where='post')\n",
    "plt.title('Rating Trend for Player #JYG0G0Y9P')\n",
    "plt.xlabel('Battle Time')\n",
    "plt.xticks(rotation=30)\n",
    "plt.ylabel('Rating')\n",
    "plt.show()"
   ]
  },
  {
   "cell_type": "code",
   "execution_count": 13,
   "id": "61a6167b-34e0-4971-b3b0-3bd20f22c131",
   "metadata": {},
   "outputs": [
    {
     "data": {
      "text/plain": [
       "29    W\n",
       "28    W\n",
       "27    L\n",
       "26    L\n",
       "25    L\n",
       "Name: outcome_team, dtype: object"
      ]
     },
     "execution_count": 13,
     "metadata": {},
     "output_type": "execute_result"
    }
   ],
   "source": [
    "# outcome last 5 matches (top = most recent match)\n",
    "test_player_df['outcome_team'].tail()[::-1]"
   ]
  },
  {
   "cell_type": "code",
   "execution_count": 14,
   "id": "1e2d82bb-5c8e-4794-98ed-e60c906da435",
   "metadata": {
    "scrolled": true
   },
   "outputs": [
    {
     "data": {
      "text/html": [
       "<div>\n",
       "<style scoped>\n",
       "    .dataframe tbody tr th:only-of-type {\n",
       "        vertical-align: middle;\n",
       "    }\n",
       "\n",
       "    .dataframe tbody tr th {\n",
       "        vertical-align: top;\n",
       "    }\n",
       "\n",
       "    .dataframe thead th {\n",
       "        text-align: right;\n",
       "    }\n",
       "</style>\n",
       "<table border=\"1\" class=\"dataframe\">\n",
       "  <thead>\n",
       "    <tr style=\"text-align: right;\">\n",
       "      <th></th>\n",
       "      <th>battle_time</th>\n",
       "      <th>player_name_team</th>\n",
       "      <th>crowns_team</th>\n",
       "      <th>trophy_change_team</th>\n",
       "      <th>player_name_opponent</th>\n",
       "      <th>crowns_opponent</th>\n",
       "      <th>trophy_change_opponent</th>\n",
       "      <th>outcome_team</th>\n",
       "    </tr>\n",
       "  </thead>\n",
       "  <tbody>\n",
       "    <tr>\n",
       "      <th>29</th>\n",
       "      <td>2025-03-15 10:10:05</td>\n",
       "      <td>LonDex Play</td>\n",
       "      <td>1</td>\n",
       "      <td>27.0</td>\n",
       "      <td>Tóm</td>\n",
       "      <td>0</td>\n",
       "      <td>-27.0</td>\n",
       "      <td>W</td>\n",
       "    </tr>\n",
       "    <tr>\n",
       "      <th>28</th>\n",
       "      <td>2025-03-15 10:06:47</td>\n",
       "      <td>LonDex Play</td>\n",
       "      <td>3</td>\n",
       "      <td>28.0</td>\n",
       "      <td>MASTER.</td>\n",
       "      <td>1</td>\n",
       "      <td>-28.0</td>\n",
       "      <td>W</td>\n",
       "    </tr>\n",
       "    <tr>\n",
       "      <th>27</th>\n",
       "      <td>2025-03-15 10:02:49</td>\n",
       "      <td>LonDex Play</td>\n",
       "      <td>0</td>\n",
       "      <td>-33.0</td>\n",
       "      <td>OTP Dooley</td>\n",
       "      <td>1</td>\n",
       "      <td>33.0</td>\n",
       "      <td>L</td>\n",
       "    </tr>\n",
       "    <tr>\n",
       "      <th>26</th>\n",
       "      <td>2025-03-15 09:58:59</td>\n",
       "      <td>LonDex Play</td>\n",
       "      <td>1</td>\n",
       "      <td>-30.0</td>\n",
       "      <td>momo</td>\n",
       "      <td>2</td>\n",
       "      <td>30.0</td>\n",
       "      <td>L</td>\n",
       "    </tr>\n",
       "    <tr>\n",
       "      <th>25</th>\n",
       "      <td>2025-03-15 09:53:31</td>\n",
       "      <td>LonDex Play</td>\n",
       "      <td>0</td>\n",
       "      <td>-25.0</td>\n",
       "      <td>kangdone</td>\n",
       "      <td>1</td>\n",
       "      <td>25.0</td>\n",
       "      <td>L</td>\n",
       "    </tr>\n",
       "  </tbody>\n",
       "</table>\n",
       "</div>"
      ],
      "text/plain": [
       "           battle_time player_name_team  crowns_team  trophy_change_team  \\\n",
       "29 2025-03-15 10:10:05      LonDex Play            1                27.0   \n",
       "28 2025-03-15 10:06:47      LonDex Play            3                28.0   \n",
       "27 2025-03-15 10:02:49      LonDex Play            0               -33.0   \n",
       "26 2025-03-15 09:58:59      LonDex Play            1               -30.0   \n",
       "25 2025-03-15 09:53:31      LonDex Play            0               -25.0   \n",
       "\n",
       "   player_name_opponent  crowns_opponent  trophy_change_opponent outcome_team  \n",
       "29                  Tóm                0                   -27.0            W  \n",
       "28              MASTER.                1                   -28.0            W  \n",
       "27           OTP Dooley                1                    33.0            L  \n",
       "26                 momo                2                    30.0            L  \n",
       "25             kangdone                1                    25.0            L  "
      ]
     },
     "execution_count": 14,
     "metadata": {},
     "output_type": "execute_result"
    }
   ],
   "source": [
    "# last 5 log\n",
    "test_player_df.tail()[::-1].loc[:, ['battle_time', 'player_name_team', 'crowns_team', 'trophy_change_team',\n",
    "                                    'player_name_opponent', 'crowns_opponent', 'trophy_change_opponent', 'outcome_team']]"
   ]
  },
  {
   "cell_type": "code",
   "execution_count": 15,
   "id": "adac2c30-37b6-4659-a5a5-078ac60703df",
   "metadata": {},
   "outputs": [
    {
     "name": "stdout",
     "output_type": "stream",
     "text": [
      "Longest win streak: 4\n"
     ]
    }
   ],
   "source": [
    "# finds longest win streak\n",
    "def longest_win_streak(series):\n",
    "    # create a grouping variable that increments when a loss (L) occurs, consecutive wins get same number\n",
    "    streak_group = (series != 'W').cumsum()\n",
    "\n",
    "    # filter for only wins (W), groups wins by streak, then counts length of streak\n",
    "    win_streaks = series[series == 'W'].groupby(streak_group).size()\n",
    "\n",
    "    # return the longest streak or 0 if no wins \n",
    "    return win_streaks.max() if not win_streaks.empty else 0\n",
    "\n",
    "longest_streak = longest_win_streak(test_player_df['outcome_team'])\n",
    "print(\"Longest win streak:\", longest_streak)"
   ]
  },
  {
   "cell_type": "code",
   "execution_count": 16,
   "id": "ed4ac9c3-d6fe-4b40-9635-c8f482acbe76",
   "metadata": {},
   "outputs": [
    {
     "data": {
      "text/plain": [
       "50.0"
      ]
     },
     "execution_count": 16,
     "metadata": {},
     "output_type": "execute_result"
    }
   ],
   "source": [
    "# winrate over log\n",
    "round(test_player_df['is_win'].sum() / len(test_player_df['is_win'])* 100, 2)"
   ]
  },
  {
   "cell_type": "code",
   "execution_count": 17,
   "id": "384eff3d-d60b-45e8-b83d-688eb6ef804b",
   "metadata": {},
   "outputs": [
    {
     "data": {
      "image/png": "[encoded data removed]",
      "text/plain": [
       "<Figure size 640x480 with 1 Axes>"
      ]
     },
     "metadata": {},
     "output_type": "display_data"
    }
   ],
   "source": [
    "plt.step(test_player_df['battle_time'], test_player_df['running_winrate'], where='post')\n",
    "plt.title('Win Rate Trend for Player #JYG0G0Y9P')\n",
    "plt.xlabel('Battle Time')\n",
    "plt.xticks(rotation=30)\n",
    "plt.ylabel('Win Rate')\n",
    "plt.show()"
   ]
  },
  {
   "cell_type": "code",
   "execution_count": 18,
   "id": "4499419c-165e-42c6-97f4-6b914568a35e",
   "metadata": {
    "scrolled": true
   },
   "outputs": [
    {
     "data": {
      "text/html": [
       "<div>\n",
       "<style scoped>\n",
       "    .dataframe tbody tr th:only-of-type {\n",
       "        vertical-align: middle;\n",
       "    }\n",
       "\n",
       "    .dataframe tbody tr th {\n",
       "        vertical-align: top;\n",
       "    }\n",
       "\n",
       "    .dataframe thead th {\n",
       "        text-align: right;\n",
       "    }\n",
       "</style>\n",
       "<table border=\"1\" class=\"dataframe\">\n",
       "  <thead>\n",
       "    <tr style=\"text-align: right;\">\n",
       "      <th></th>\n",
       "      <th>elixir_leaked_team</th>\n",
       "      <th>crowns_team</th>\n",
       "    </tr>\n",
       "  </thead>\n",
       "  <tbody>\n",
       "    <tr>\n",
       "      <th>count</th>\n",
       "      <td>30.000000</td>\n",
       "      <td>30.000000</td>\n",
       "    </tr>\n",
       "    <tr>\n",
       "      <th>mean</th>\n",
       "      <td>1.672667</td>\n",
       "      <td>0.900000</td>\n",
       "    </tr>\n",
       "    <tr>\n",
       "      <th>std</th>\n",
       "      <td>2.029875</td>\n",
       "      <td>0.844863</td>\n",
       "    </tr>\n",
       "    <tr>\n",
       "      <th>min</th>\n",
       "      <td>0.000000</td>\n",
       "      <td>0.000000</td>\n",
       "    </tr>\n",
       "    <tr>\n",
       "      <th>25%</th>\n",
       "      <td>0.000000</td>\n",
       "      <td>0.000000</td>\n",
       "    </tr>\n",
       "    <tr>\n",
       "      <th>50%</th>\n",
       "      <td>0.960000</td>\n",
       "      <td>1.000000</td>\n",
       "    </tr>\n",
       "    <tr>\n",
       "      <th>75%</th>\n",
       "      <td>2.470000</td>\n",
       "      <td>1.000000</td>\n",
       "    </tr>\n",
       "    <tr>\n",
       "      <th>max</th>\n",
       "      <td>7.240000</td>\n",
       "      <td>3.000000</td>\n",
       "    </tr>\n",
       "  </tbody>\n",
       "</table>\n",
       "</div>"
      ],
      "text/plain": [
       "       elixir_leaked_team  crowns_team\n",
       "count           30.000000    30.000000\n",
       "mean             1.672667     0.900000\n",
       "std              2.029875     0.844863\n",
       "min              0.000000     0.000000\n",
       "25%              0.000000     0.000000\n",
       "50%              0.960000     1.000000\n",
       "75%              2.470000     1.000000\n",
       "max              7.240000     3.000000"
      ]
     },
     "execution_count": 18,
     "metadata": {},
     "output_type": "execute_result"
    }
   ],
   "source": [
    "# elixir leaked and crowns per game summary stats\n",
    "test_player_df[['elixir_leaked_team', 'crowns_team']].describe()"
   ]
  },
  {
   "cell_type": "code",
   "execution_count": 19,
   "id": "b1e6e718-41a6-4e78-9333-1802e8ccb677",
   "metadata": {},
   "outputs": [
    {
     "data": {
      "image/png": "[encoded data removed]",
      "text/plain": [
       "<Figure size 1000x500 with 2 Axes>"
      ]
     },
     "metadata": {},
     "output_type": "display_data"
    }
   ],
   "source": [
    "# elixir cost distribution of used cards - top 100 (team) vs opp\n",
    "fig, axes = plt.subplots(1, 2, figsize=(10,5))\n",
    "\n",
    "axes[0].hist(team_deck_df['elixir_cost'])\n",
    "axes[0].set_xlabel('Elixir Cost')\n",
    "axes[0].set_title('Distribution of Elixir Cost - Top 100')\n",
    "axes[1].hist(opponent_deck_df['elixir_cost'])\n",
    "axes[1].set_xlabel('Elixir Cost')\n",
    "axes[1].set_title('Distribution of Elixir Cost - Opponents')\n",
    "\n",
    "plt.show()"
   ]
  },
  {
   "cell_type": "code",
   "execution_count": 20,
   "id": "be36ec84-29c1-4693-b688-b22e5123ab84",
   "metadata": {},
   "outputs": [
    {
     "data": {
      "text/plain": [
       "card_name\n",
       "Cannon          0.350084\n",
       "Ice Spirit      0.341709\n",
       "The Log         0.319933\n",
       "Arrows          0.318258\n",
       "Skeletons       0.303183\n",
       "                  ...   \n",
       "Golem           0.003350\n",
       "Mother Witch    0.001675\n",
       "Berserker       0.001675\n",
       "Ice Golem       0.001675\n",
       "Minions         0.001675\n",
       "Name: battle_time, Length: 97, dtype: float64"
      ]
     },
     "execution_count": 20,
     "metadata": {},
     "output_type": "execute_result"
    }
   ],
   "source": [
    "# card usage rates among top 100 group\n",
    "usage_rates_team = (team_deck_df.groupby('card_name')['battle_time'].count() / len(battle_df)).sort_values(ascending=False)\n",
    "usage_rates_team"
   ]
  },
  {
   "cell_type": "code",
   "execution_count": 21,
   "id": "9fb96e50-0ef1-40c1-b2e5-570a9446d37d",
   "metadata": {},
   "outputs": [
    {
     "data": {
      "text/plain": [
       "card_name\n",
       "The Log              0.328308\n",
       "Skeletons            0.241206\n",
       "Tornado              0.239531\n",
       "Lumberjack           0.239531\n",
       "Arrows               0.226131\n",
       "                       ...   \n",
       "Three Musketeers     0.006700\n",
       "Goblin Demolisher    0.003350\n",
       "Suspicious Bush      0.003350\n",
       "Clone                0.003350\n",
       "Goblin Machine       0.001675\n",
       "Name: battle_time, Length: 115, dtype: float64"
      ]
     },
     "execution_count": 21,
     "metadata": {},
     "output_type": "execute_result"
    }
   ],
   "source": [
    "# card usage rates among opp\n",
    "usage_rates_opp = (opponent_deck_df.groupby('card_name')['battle_time'].count() / len(battle_df)).sort_values(ascending=False)\n",
    "usage_rates_opp"
   ]
  },
  {
   "cell_type": "code",
   "execution_count": 22,
   "id": "8d9bbe99-1b35-42d4-a63f-9536ca79b7a7",
   "metadata": {
    "scrolled": true
   },
   "outputs": [
    {
     "data": {
      "text/plain": [
       "card_name\n",
       "Goblin Giant    1.000000\n",
       "Golem           1.000000\n",
       "Rune Giant      1.000000\n",
       "Bandit          1.000000\n",
       "Mega Knight     1.000000\n",
       "                  ...   \n",
       "Princess        0.461538\n",
       "Cannon Cart     0.444444\n",
       "Wizard          0.333333\n",
       "Berserker            NaN\n",
       "Ice Golem            NaN\n",
       "Length: 97, dtype: float64"
      ]
     },
     "execution_count": 22,
     "metadata": {},
     "output_type": "execute_result"
    }
   ],
   "source": [
    "# card win rates among top 100\n",
    "team_deck_player_merge = team_deck_df.merge(merged_player_df, how='left', on='battle_time')\n",
    "win_rates_team = (team_deck_player_merge[team_deck_player_merge['outcome_team'] == 'W']['card_name'].value_counts() / team_deck_df.groupby('card_name')['battle_time'].count()).sort_values(ascending=False)\n",
    "win_rates_team"
   ]
  },
  {
   "cell_type": "code",
   "execution_count": 23,
   "id": "6bef1263-6291-4020-9845-6c151688ceea",
   "metadata": {
    "scrolled": true
   },
   "outputs": [
    {
     "data": {
      "text/plain": [
       "card_name\n",
       "Furnace              0.500000\n",
       "Suspicious Bush      0.500000\n",
       "Mother Witch         0.478261\n",
       "Night Witch          0.473684\n",
       "Goblinstein          0.470588\n",
       "                       ...   \n",
       "Berserker                 NaN\n",
       "Clone                     NaN\n",
       "Fire Spirit               NaN\n",
       "Goblin Demolisher         NaN\n",
       "Goblin Machine            NaN\n",
       "Length: 115, dtype: float64"
      ]
     },
     "execution_count": 23,
     "metadata": {},
     "output_type": "execute_result"
    }
   ],
   "source": [
    "# card win rates among opp\n",
    "opp_deck_player_merge = opponent_deck_df.merge(merged_player_df, how='left', on='battle_time')\n",
    "win_rates_opp = (opp_deck_player_merge[opp_deck_player_merge['outcome_opponent'] == 'W']['card_name'].value_counts() / opponent_deck_df.groupby('card_name')['battle_time'].count()).sort_values(ascending=False)\n",
    "win_rates_opp"
   ]
  },
  {
   "cell_type": "code",
   "execution_count": 24,
   "id": "5836d227-d665-4faa-ae4a-4002b42d218e",
   "metadata": {},
   "outputs": [
    {
     "data": {
      "image/png": "[encoded data removed]",
      "text/plain": [
       "<Figure size 1000x500 with 2 Axes>"
      ]
     },
     "metadata": {},
     "output_type": "display_data"
    }
   ],
   "source": [
    "# win rates vs usage rates - top 100 vs opp\n",
    "fig, axes = plt.subplots(1, 2, figsize=(10, 5))\n",
    "for ax, group, win_dfs, usage_dfs in zip(axes,\n",
    "                                         ['Top 100', 'Opponents'],\n",
    "                                         [win_rates_team, win_rates_opp],\n",
    "                                         [usage_rates_team, usage_rates_opp]):\n",
    "    ax.scatter(win_dfs, usage_dfs)\n",
    "    ax.set_title(f'Win Rates vs Usage Rates - {group}')\n",
    "    ax.set_xlabel('Win Rate')\n",
    "    ax.set_ylabel('Usage Rate')\n",
    "\n",
    "plt.show()"
   ]
  },
  {
   "cell_type": "markdown",
   "id": "86d218c1-40db-4441-a877-de5f06fdd990",
   "metadata": {},
   "source": [
    "## V. Table exports"
   ]
  },
  {
   "cell_type": "code",
   "execution_count": 25,
   "id": "3835a8b0-73f8-4f7c-9df4-9a0be1992ae9",
   "metadata": {},
   "outputs": [],
   "source": [
    "# merged_player_df.to_excel('merged_player_df.xlsx', index=False)\n",
    "# team_deck_df.to_excel('team_deck_df.xlsx', index=False)\n",
    "# opponent_deck_df.to_excel('opp_deck_df.xlsx', index=False)"
   ]
  }
 ],
 "metadata": {
  "kernelspec": {
   "display_name": "Python 3 (ipykernel)",
   "language": "python",
   "name": "python3"
  },
  "language_info": {
   "codemirror_mode": {
    "name": "ipython",
    "version": 3
   },
   "file_extension": ".py",
   "mimetype": "text/x-python",
   "name": "python",
   "nbconvert_exporter": "python",
   "pygments_lexer": "ipython3",
   "version": "3.11.7"
  }
 },
 "nbformat": 4,
 "nbformat_minor": 5
}
